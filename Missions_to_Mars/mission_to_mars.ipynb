{
 "cells": [
  {
   "cell_type": "code",
   "execution_count": null,
   "metadata": {},
   "outputs": [],
   "source": [
    "from splinter import Browser\n",
    "from bs4 import BeautifulSoup\n",
    "from webdriver_manager.chrome import ChromeDriverManager\n",
    "import requests\n",
    "import pandas as pd"
   ]
  },
  {
   "cell_type": "code",
   "execution_count": null,
   "metadata": {},
   "outputs": [],
   "source": [
    "# Setup splinter\n",
    "executable_path = {'executable_path': ChromeDriverManager().install()}\n",
    "browser = Browser('chrome', **executable_path, headless=False)"
   ]
  },
  {
   "cell_type": "code",
   "execution_count": null,
   "metadata": {},
   "outputs": [],
   "source": [
    "# Define url  and set up config splinter to the site \n",
    "#Create a function that takes the url and return the soup \n",
    "def create_soup(url):\n",
    "    browser.visit(url)\n",
    "    # Create BeautifulSoup object; parse with 'html.parser'\n",
    "    html = browser.html\n",
    "    soup = BeautifulSoup(html, 'html.parser')\n",
    "    return soup"
   ]
  },
  {
   "cell_type": "markdown",
   "metadata": {},
   "source": [
    "### -------------------------------------------------------------------------------------------------------------------------------\n",
    "#### NASA Mars News\n",
    "    - Scrape the Mars News Site and collect the latest News Title and Paragraph Text.\n",
    "### -------------------------------------------------------------------------------------------------------------------------------"
   ]
  },
  {
   "cell_type": "code",
   "execution_count": null,
   "metadata": {},
   "outputs": [],
   "source": [
    "#Define the url to visit and call the function create_soup\n",
    "url = 'https://redplanetscience.com/'\n",
    "soup = create_soup(url)"
   ]
  },
  {
   "cell_type": "code",
   "execution_count": null,
   "metadata": {},
   "outputs": [],
   "source": [
    "# grab the title\n",
    "title = soup.find('div' , class_=\"content_title\").text\n",
    "title"
   ]
  },
  {
   "cell_type": "code",
   "execution_count": null,
   "metadata": {},
   "outputs": [],
   "source": [
    "# Grab the paragraph\n",
    "news_p = soup.find('div', class_=\"article_teaser_body\").text\n",
    "news_p"
   ]
  },
  {
   "cell_type": "markdown",
   "metadata": {},
   "source": [
    "### -------------------------------------------------------------------------------------------------------------------------------\n",
    "#### JPL Mars Space Images - Featured Image\n",
    "    - Visit the url for the Featured Space Image site https://spaceimages-mars.com/\n",
    "    - Find the image url to the full size .jpg image.\n",
    "### -------------------------------------------------------------------------------------------------------------------------------"
   ]
  },
  {
   "cell_type": "code",
   "execution_count": null,
   "metadata": {},
   "outputs": [],
   "source": [
    "# Define url  and call create_soup function to return soup \n",
    "featured_url = 'https://spaceimages-mars.com/'\n",
    "soup = create_soup(featured_url)"
   ]
  },
  {
   "cell_type": "code",
   "execution_count": null,
   "metadata": {},
   "outputs": [],
   "source": [
    "# Create BeautifulSoup object; parse with 'html.parser' to the second site\n",
    "try:\n",
    "    target = 'button[class=\"btn btn-outline-light\"]'\n",
    "    browser.find_by_tag(target).click()\n",
    "    html = browser.html\n",
    "    soup = BeautifulSoup(html, 'html.parser')\n",
    "    image_src = soup.find('img', class_=\"fancybox-image\")['src']\n",
    "except:\n",
    "    print('can\\'t find the image')\n",
    "featured_image_url = featured_url + image_src\n"
   ]
  },
  {
   "cell_type": "markdown",
   "metadata": {},
   "source": [
    "### -------------------------------------------------------------------------------------------------------------------------------\n",
    "#### Mars Facts\n",
    "        - Visit the Mars Facts webpage https://galaxyfacts-mars.com/ and use Pandas to scrape the table \n",
    "          containing facts about the planet including Diameter, Mass, etc.\n",
    "        - Use Pandas to convert the data to a HTML table string.\n",
    "### -------------------------------------------------------------------------------------------------------------------------------"
   ]
  },
  {
   "cell_type": "code",
   "execution_count": null,
   "metadata": {},
   "outputs": [],
   "source": [
    "# define url to visit\n",
    "mars_facts_url = 'https://galaxyfacts-mars.com/'\n",
    "# using pandas read html\n",
    "tables = pd.read_html(mars_facts_url)\n",
    "# find total no. of tables in the list\n",
    "len(tables)"
   ]
  },
  {
   "cell_type": "code",
   "execution_count": null,
   "metadata": {},
   "outputs": [],
   "source": [
    "# check for the table in iterest and select that table\n",
    "mars_fact_df = tables[0]\n",
    "mars_fact_df"
   ]
  },
  {
   "cell_type": "code",
   "execution_count": null,
   "metadata": {},
   "outputs": [],
   "source": [
    "# add column names ['Description' , 'Mars', 'Earth']\n",
    "mars_fact_df.columns = ['Description' , 'Mars', 'Earth']\n",
    "\n",
    "# set Description as a index\n",
    "mars_fact_df.set_index('Description' , drop=True , inplace= True)\n",
    "mars_fact_df"
   ]
  },
  {
   "cell_type": "code",
   "execution_count": null,
   "metadata": {},
   "outputs": [],
   "source": [
    "# Save the table in HTML format\n",
    "mars_fact_df.to_html('table.html')\n"
   ]
  },
  {
   "cell_type": "markdown",
   "metadata": {},
   "source": [
    "### -------------------------------------------------------------------------------------------------------------------------------\n",
    "#### Mars Hemispheres\n",
    "          - Visit the astrogeology site here to obtain high resolution images for each of Mar's hemispheres.\n",
    "          - get image url to the full resolution image.\n",
    "### -------------------------------------------------------------------------------------------------------------------------------"
   ]
  },
  {
   "cell_type": "code",
   "execution_count": null,
   "metadata": {},
   "outputs": [],
   "source": [
    "# Define the url and call create_soup function to return soup object\n",
    "mars_hem_url = 'https://marshemispheres.com/'\n",
    "soup = create_soup(mars_hem_url)\n",
    "\n",
    "# Find the container that holds all the images in the main page\n",
    "container = soup.find_all('div' , class_=\"item\")\n",
    "\n",
    "# Initialize the list\n",
    "hemisphere_image_urls =[]\n",
    "\n",
    "for content in container:    \n",
    "    # use splinter to navigate to the page to get the image file \n",
    "    # Note: splinter uses main browser not the cotainer so be specific\n",
    "    h3 = content.find('h3').text\n",
    "    \n",
    "    browser.find_by_text(str(h3)).click()\n",
    "    \n",
    "    # get html of rendered page and create a soup\n",
    "    html = browser.html\n",
    "    soup = BeautifulSoup(html, 'html.parser')   \n",
    "    \n",
    "    # Get the title and the image link\n",
    "    title_hem = soup.find('h2' , class_=\"title\").text\n",
    "    \n",
    "    image = mars_hem_url + soup.find('img', class_=\"wide-image\")['src']\n",
    "    #print(image)\n",
    "    \n",
    "    #create a dictionary\n",
    "    hemisphere_image_urls.append({\n",
    "                            'title' :title_hem,\n",
    "                            'img_url':image\n",
    "                             })\n",
    "\n",
    "    # go back to the original page to grab more data\n",
    "    browser.back()\n",
    "    \n",
    "    \n",
    "\n",
    "    \n"
   ]
  },
  {
   "cell_type": "code",
   "execution_count": null,
   "metadata": {},
   "outputs": [],
   "source": [
    "\n",
    "        \n",
    "    "
   ]
  }
 ],
 "metadata": {
  "kernelspec": {
   "display_name": "Python [conda env:pythonData] *",
   "language": "python",
   "name": "conda-env-pythonData-py"
  },
  "language_info": {
   "codemirror_mode": {
    "name": "ipython",
    "version": 3
   },
   "file_extension": ".py",
   "mimetype": "text/x-python",
   "name": "python",
   "nbconvert_exporter": "python",
   "pygments_lexer": "ipython3",
   "version": "3.6.12"
  }
 },
 "nbformat": 4,
 "nbformat_minor": 4
}
